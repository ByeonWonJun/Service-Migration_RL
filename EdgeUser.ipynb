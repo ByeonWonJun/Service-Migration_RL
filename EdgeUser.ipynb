{
 "cells": [
  {
   "cell_type": "code",
   "execution_count": 1,
   "metadata": {},
   "outputs": [],
   "source": [
    "import numpy as np\n",
    "import time"
   ]
  },
  {
   "cell_type": "code",
   "execution_count": 36,
   "metadata": {},
   "outputs": [],
   "source": [
    "import numpy as np\n",
    "import time\n",
    "\n",
    "class User():\n",
    "    def __init__(self,dataRate):\n",
    "        \n",
    "        self.cpu_speed = 250000 #  250MB/s ->1KB/s\n",
    "        self.max_delay = 1000\n",
    "        self.user_speed = 100*1000/(60*60) # 100Km/h -> m/s : 27.777\n",
    "        self.dataRate = dataRate\n",
    "        self.cpu_cycle_num = 0.1e9\n",
    "        self.fixedData = 1024*3\n",
    "        \n",
    "        self.position = 0\n",
    "        self.savedPosition = 0\n",
    "        \n",
    "        self.trans_power = 100\n",
    "        self.SNR = -40\n",
    "        self.path_loss_exp = 3.5\n",
    "        \n",
    "        self.edges= [0,1,2,3,4,5]\n",
    "        #self.Bandwidth = 3000\n",
    "        \n",
    "        self.ChannelCapacity = 360/8*np.log2(1 + (self.trans_power * np.power(self.position, -1 * self.path_loss_exp)) / np.power(10, self.SNR / 10))\n",
    "        \n",
    "    def getLocalTime(self):\n",
    "        return self.cpu_cycle_num*(1-self.dataRate)/self.cpu_speed\n",
    "    \n",
    "    def getNowServer(self):\n",
    "        if self.savedPosition == 0:\n",
    "            while True:\n",
    "                self.position += self.user_speed\n",
    "                self.savedPosition += self.user_speed\n",
    "                print('position : {} , savedPosition : {}'.format(self.position, self.savedPosition))\n",
    "                time.sleep(0.001)\n",
    "                #if self.savedPosition < 1000:\n",
    "                #    return self.edges[0]\n",
    "                \n",
    "                if self.savedPosition >= 1000 and self.savedPosition < 2000:\n",
    "                    self.position = 0\n",
    "                    return self.edges[1]\n",
    "                \n",
    "                elif self.savedPosition >= 2000 and self.savedPosition < 3000:\n",
    "                    self.position = 0\n",
    "                    return self.edges[2]\n",
    "                \n",
    "                elif self.savedPosition >= 3000 and self.savedPosition < 4000:\n",
    "                    self.position = 0\n",
    "                    return self.edges[3]\n",
    "                \n",
    "                elif self.savedPosition >= 4000 and self.savedPosition < 5000:\n",
    "                    self.position = 0\n",
    "                    return self.edges[4]\n",
    "                \n",
    "                else:\n",
    "                    break\n",
    "               \n",
    "            \n",
    "            \n",
    "    \n",
    "\n",
    "    \n",
    "\n"
   ]
  },
  {
   "cell_type": "code",
   "execution_count": 37,
   "metadata": {},
   "outputs": [
    {
     "name": "stderr",
     "output_type": "stream",
     "text": [
      "C:\\Users\\com\\anaconda3\\envs\\gym\\lib\\site-packages\\ipykernel_launcher.py:24: RuntimeWarning: divide by zero encountered in power\n"
     ]
    }
   ],
   "source": [
    "u = User(0.3)"
   ]
  },
  {
   "cell_type": "code",
   "execution_count": 38,
   "metadata": {},
   "outputs": [
    {
     "name": "stdout",
     "output_type": "stream",
     "text": [
      "position : 27.77777777777778 , savedPosition : 27.77777777777778\n"
     ]
    }
   ],
   "source": [
    "u.getNowServer()"
   ]
  },
  {
   "cell_type": "code",
   "execution_count": null,
   "metadata": {},
   "outputs": [],
   "source": []
  },
  {
   "cell_type": "code",
   "execution_count": null,
   "metadata": {},
   "outputs": [],
   "source": []
  },
  {
   "cell_type": "code",
   "execution_count": null,
   "metadata": {},
   "outputs": [],
   "source": []
  },
  {
   "cell_type": "code",
   "execution_count": null,
   "metadata": {},
   "outputs": [],
   "source": []
  },
  {
   "cell_type": "code",
   "execution_count": null,
   "metadata": {},
   "outputs": [],
   "source": []
  },
  {
   "cell_type": "code",
   "execution_count": null,
   "metadata": {},
   "outputs": [],
   "source": []
  },
  {
   "cell_type": "code",
   "execution_count": null,
   "metadata": {},
   "outputs": [],
   "source": []
  },
  {
   "cell_type": "code",
   "execution_count": null,
   "metadata": {},
   "outputs": [],
   "source": []
  }
 ],
 "metadata": {
  "kernelspec": {
   "display_name": "Python 3",
   "language": "python",
   "name": "python3"
  },
  "language_info": {
   "codemirror_mode": {
    "name": "ipython",
    "version": 3
   },
   "file_extension": ".py",
   "mimetype": "text/x-python",
   "name": "python",
   "nbconvert_exporter": "python",
   "pygments_lexer": "ipython3",
   "version": "3.5.5"
  }
 },
 "nbformat": 4,
 "nbformat_minor": 2
}
