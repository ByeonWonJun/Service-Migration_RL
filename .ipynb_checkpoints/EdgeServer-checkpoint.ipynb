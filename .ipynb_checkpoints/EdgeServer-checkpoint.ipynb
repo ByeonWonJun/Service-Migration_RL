{
 "cells": [
  {
   "cell_type": "code",
   "execution_count": 1,
   "metadata": {},
   "outputs": [],
   "source": [
    "from EdgeUser import User\n",
    "from gym import Env\n",
    "from gym.spaces import Discrete, Box\n",
    "import numpy as np\n",
    "import random"
   ]
  },
  {
   "cell_type": "code",
   "execution_count": 51,
   "metadata": {},
   "outputs": [],
   "source": [
    "class EdgeEnv(Env):\n",
    "    \n",
    "    def __init__(self, dataRate, computing_resource ):\n",
    "        \n",
    "        #self.action_space = Box(low=np.array([0.0],[0.0]), high=np.array([1.0], [1.0]))\n",
    "        #self.observation_space = Box(low=np.array([0.0]), high=np.array([len(self.max_delay)]))\n",
    "                                     \n",
    "        self.max_delay = 1000\n",
    "        self.server_cpu_speed = 2e6 # 2GB/s -> 2KB/s\n",
    "        self.dataRate = dataRate\n",
    "        self.cpu_cycle_num = 0.1e9\n",
    "        self.fixedData = 1024*3 # 3KB\n",
    "        \n",
    "        self.avg_taskTrans_rate = 1024\n",
    "        self.avg_dis_hop = 2\n",
    "        self.computing_resource = computing_resource\n",
    "        self.avg_taskTrans_EdgeRate = 1024\n",
    "        self.avg_dis_EdgeHop = 2\n",
    "        \n",
    "        self.dataRateLocal = User(self.dataRate)\n",
    "        \n",
    "    \n",
    "    def getWirelessTransmission(self):\n",
    "        return self.fixedData*self.dataRate/self.dataRateLocal.ChannelCapacity\n",
    "\n",
    "    def getTransmissionTime(self):\n",
    "        return self.fixedData*self.dataRate/self.avg_taskTrans_rate*self.avg_dis_hop\n",
    "    \n",
    "    def getEdgeProcessingTime(self):\n",
    "        return self.dataRate*self.cpu_cycle_num/(self.server_cpu_speed*self.computing_resource)\n",
    "    \n",
    "    def getMigrationTime(self):\n",
    "        return 2*self.fixedData*self.dataRate/self.avg_taskTrans_EdgeRate*self.avg_dis_EdgeHop\n",
    "    \n",
    "    def getEdgeTotlaTime_Nomigration(self):\n",
    "        return self.getWirelessTransmission()+self.getTransmissionTime()+self.getEdgeProcessingTime()\n",
    "    \n",
    "    def getEdgeTotlaTime_migration(self):\n",
    "        return self.getWirelessTransmission()+self.getTransmissionTime()+self.getEdgeProcessingTime()+self.getMigrationTime()\n",
    "    \n",
    "    def getMaxTime(self):\n",
    "        return max(self.dataRateLocal.getLocalTime(),self.getEdgeTotlaTime_migration(),self.getEdgeTotlaTime_Nomigration())\n",
    "    "
   ]
  },
  {
   "cell_type": "code",
   "execution_count": 52,
   "metadata": {},
   "outputs": [],
   "source": [
    "env = EdgeEnv(0.6,0.1)"
   ]
  },
  {
   "cell_type": "code",
   "execution_count": 53,
   "metadata": {},
   "outputs": [
    {
     "data": {
      "text/plain": [
       "240.0"
      ]
     },
     "execution_count": 53,
     "metadata": {},
     "output_type": "execute_result"
    }
   ],
   "source": [
    "a=User(0.4)\n",
    "a.getLocalTime()"
   ]
  },
  {
   "cell_type": "code",
   "execution_count": 54,
   "metadata": {},
   "outputs": [
    {
     "data": {
      "text/plain": [
       "2.055031288318061"
      ]
     },
     "execution_count": 54,
     "metadata": {},
     "output_type": "execute_result"
    }
   ],
   "source": [
    "env.getWirelessTransmission()"
   ]
  },
  {
   "cell_type": "code",
   "execution_count": 55,
   "metadata": {},
   "outputs": [
    {
     "data": {
      "text/plain": [
       "3.5999999999999996"
      ]
     },
     "execution_count": 55,
     "metadata": {},
     "output_type": "execute_result"
    }
   ],
   "source": [
    "env.getTransmissionTime()"
   ]
  },
  {
   "cell_type": "code",
   "execution_count": 56,
   "metadata": {},
   "outputs": [
    {
     "data": {
      "text/plain": [
       "300.0"
      ]
     },
     "execution_count": 56,
     "metadata": {},
     "output_type": "execute_result"
    }
   ],
   "source": [
    "env.getEdgeProcessingTime()"
   ]
  },
  {
   "cell_type": "code",
   "execution_count": 57,
   "metadata": {},
   "outputs": [
    {
     "data": {
      "text/plain": [
       "7.199999999999999"
      ]
     },
     "execution_count": 57,
     "metadata": {},
     "output_type": "execute_result"
    }
   ],
   "source": [
    "env.getMigrationTime()"
   ]
  },
  {
   "cell_type": "code",
   "execution_count": 46,
   "metadata": {},
   "outputs": [
    {
     "data": {
      "text/plain": [
       "125.65503128831806"
      ]
     },
     "execution_count": 46,
     "metadata": {},
     "output_type": "execute_result"
    }
   ],
   "source": [
    "env.getEdgeTotlaTime_Nomigration()"
   ]
  },
  {
   "cell_type": "code",
   "execution_count": 47,
   "metadata": {},
   "outputs": [
    {
     "data": {
      "text/plain": [
       "126.37503128831806"
      ]
     },
     "execution_count": 47,
     "metadata": {},
     "output_type": "execute_result"
    }
   ],
   "source": [
    "env.getEdgeTotlaTime_migration()"
   ]
  },
  {
   "cell_type": "code",
   "execution_count": 48,
   "metadata": {},
   "outputs": [
    {
     "data": {
      "text/plain": [
       "160.0"
      ]
     },
     "execution_count": 48,
     "metadata": {},
     "output_type": "execute_result"
    }
   ],
   "source": [
    "env.getMaxTime()"
   ]
  },
  {
   "cell_type": "code",
   "execution_count": null,
   "metadata": {},
   "outputs": [],
   "source": []
  }
 ],
 "metadata": {
  "kernelspec": {
   "display_name": "Python 3",
   "language": "python",
   "name": "python3"
  },
  "language_info": {
   "codemirror_mode": {
    "name": "ipython",
    "version": 3
   },
   "file_extension": ".py",
   "mimetype": "text/x-python",
   "name": "python",
   "nbconvert_exporter": "python",
   "pygments_lexer": "ipython3",
   "version": "3.5.5"
  }
 },
 "nbformat": 4,
 "nbformat_minor": 2
}
