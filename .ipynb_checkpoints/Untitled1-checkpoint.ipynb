{
 "cells": [
  {
   "cell_type": "code",
   "execution_count": 11,
   "metadata": {},
   "outputs": [],
   "source": [
    "from EdgeUser import User\n",
    "from gym import Env\n",
    "from gym.spaces import Discrete, Box\n",
    "import numpy as np\n",
    "import random"
   ]
  },
  {
   "cell_type": "code",
   "execution_count": 15,
   "metadata": {},
   "outputs": [],
   "source": [
    "class edge(Env):\n",
    "    \n",
    "    def __init__(self, num_user, num_edge, server_cpu_speed, dataRate, cpu_cycle_num, fixedData, \n",
    "                 avg_taskTrans_rate, avg_dis_hop, computing_resource, avg_taskTrans_EdgeRate, avg_dis_EdgeHop):\n",
    "        \n",
    "        self.action_space = Box(low=np.array([0],[0.0],[0.0]), high=np.array([len(num_edge)],[1.0], [1.0]))\n",
    "        self.observation_space = Box(low=np.array([0],[0.0], high=np.array([len(num_user)],[len(max_delay)])))\n",
    "                                     \n",
    "        self.max_delay = max_delay\n",
    "        self.num_edge = num_edge\n",
    "        self.num_user = num_user\n",
    "        self.server_cpu_speed = server_cpu_speed\n",
    "        self.dataRate = dataRate\n",
    "        self.cpu_cycle_num = cpu_cycle_num\n",
    "        self.fixedData = fixedData\n",
    "        \n",
    "        self.avg_taskTrans_rate = avg_taskTrans_rate\n",
    "        self.avg_dis_hop = avg_dis_hop\n",
    "        self.computing_resource = computing_resource\n",
    "        self.avg_taskTrans_EdgeRate = avg_taskTrans_EdgeRate\n",
    "        self.avg_dis_EdgeHop = avg_dis_EdgeHop\n",
    "        \n",
    "        self.users = []\n",
    "        \n",
    "        self.trans_power = 100\n",
    "        self.SNR = -40\n",
    "        self.path_loss_exp = 3.5\n",
    "        self.Bandwidth = 3000\n",
    "        self.ChannelCapacity = self.Bandwidth*np.log2(1 + (self.trans_power * np.power(self.position, -1 * self.path_loss_exp)) / np.power(10, self.SNR / 10))\n",
    "        \n",
    "    def getWirelessTransmission(self):\n",
    "        return self.fixedData*self.dataRate/getLocalTime()\n",
    "\n",
    "    def getTransmissionTime(self):\n",
    "        return fixedData*dataRate/avg_taskTrans_rate*avg_dis_hop\n",
    "    \n",
    "    def getEdgeProcessingTime(self):\n",
    "        return dataRate*self.cpu_cycle_num/(self.server_cpu_speed*self.computing_resource)\n",
    "    \n",
    "    def getMigrationTime(self):\n",
    "        return 0.2*fixedData*dataRate/avg_taskTrans_EdgeRate*avg_dis_EdgeHop\n",
    "    \n",
    "    def step(self,action):\n",
    "        \n",
    "        pass\n",
    "    \n",
    "    def render(self):\n",
    "        pass\n",
    "    \n",
    "    def reset(self):\n",
    "        pass\n",
    "        \n",
    "\n",
    "    "
   ]
  },
  {
   "cell_type": "code",
   "execution_count": null,
   "metadata": {},
   "outputs": [],
   "source": []
  }
 ],
 "metadata": {
  "kernelspec": {
   "display_name": "Python 3",
   "language": "python",
   "name": "python3"
  },
  "language_info": {
   "codemirror_mode": {
    "name": "ipython",
    "version": 3
   },
   "file_extension": ".py",
   "mimetype": "text/x-python",
   "name": "python",
   "nbconvert_exporter": "python",
   "pygments_lexer": "ipython3",
   "version": "3.5.5"
  }
 },
 "nbformat": 4,
 "nbformat_minor": 2
}
